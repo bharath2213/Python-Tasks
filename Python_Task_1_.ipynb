{
  "nbformat": 4,
  "nbformat_minor": 0,
  "metadata": {
    "colab": {
      "provenance": [],
      "include_colab_link": true
    },
    "kernelspec": {
      "name": "python3",
      "display_name": "Python 3"
    },
    "language_info": {
      "name": "python"
    }
  },
  "cells": [
    {
      "cell_type": "markdown",
      "metadata": {
        "id": "view-in-github",
        "colab_type": "text"
      },
      "source": [
        "<a href=\"https://colab.research.google.com/github/bharath2213/Python-Tasks/blob/main/Python_Task_1_.ipynb\" target=\"_parent\"><img src=\"https://colab.research.google.com/assets/colab-badge.svg\" alt=\"Open In Colab\"/></a>"
      ]
    },
    {
      "cell_type": "markdown",
      "source": [
        "1. Write a program to print the following pattern (use for loop)\n",
        "\n",
        "\n",
        "        A  \n",
        "        B C  \n",
        "        D E F  \n",
        "        G H I J  \n",
        "        K L M N O  \n",
        "        P Q R S T U"
      ],
      "metadata": {
        "id": "T2ETI_5IWbgc"
      }
    },
    {
      "cell_type": "code",
      "source": [
        "\n",
        "# Initialize starting character\n",
        "char = ord('A')\n",
        "\n",
        "# Number of rows in the pattern\n",
        "rows = 6\n",
        "\n",
        "for i in range(1, rows + 1):\n",
        "    for j in range(i):\n",
        "        print(chr(char), end=' ')\n",
        "        char += 1\n",
        "    print()\n"
      ],
      "metadata": {
        "id": "tW3aUAhXWpXa",
        "outputId": "ad883801-b56d-4368-df5f-5cec24b917de",
        "colab": {
          "base_uri": "https://localhost:8080/"
        }
      },
      "execution_count": null,
      "outputs": [
        {
          "output_type": "stream",
          "name": "stdout",
          "text": [
            "A \n",
            "B C \n",
            "D E F \n",
            "G H I J \n",
            "K L M N O \n",
            "P Q R S T U \n"
          ]
        }
      ]
    },
    {
      "cell_type": "markdown",
      "source": [
        "\n",
        "2. Write a program to print tables from 2 to a user provided range (use for loop)\n",
        "\n",
        "  hint: to get the user input   -   int(input('Enter the range : '))"
      ],
      "metadata": {
        "id": "2BoNXuTcWqmv"
      }
    },
    {
      "cell_type": "code",
      "source": [
        "end_range = int(input('Enter the range: '))\n",
        "for i in range(2, end_range + 1):\n",
        "    print(f\"\\nTable of {i}:\")\n",
        "    for j in range(1, 11):\n",
        "        print(f\"{i} x {j} = {i * j}\")\n"
      ],
      "metadata": {
        "id": "JsMcUKHYWzUk",
        "outputId": "8e25b8d8-cc5c-4533-ee69-15f30f2715d6",
        "colab": {
          "base_uri": "https://localhost:8080/"
        }
      },
      "execution_count": null,
      "outputs": [
        {
          "output_type": "stream",
          "name": "stdout",
          "text": [
            "Enter the range: 5\n",
            "\n",
            "Table of 2:\n",
            "2 x 1 = 2\n",
            "2 x 2 = 4\n",
            "2 x 3 = 6\n",
            "2 x 4 = 8\n",
            "2 x 5 = 10\n",
            "2 x 6 = 12\n",
            "2 x 7 = 14\n",
            "2 x 8 = 16\n",
            "2 x 9 = 18\n",
            "2 x 10 = 20\n",
            "\n",
            "Table of 3:\n",
            "3 x 1 = 3\n",
            "3 x 2 = 6\n",
            "3 x 3 = 9\n",
            "3 x 4 = 12\n",
            "3 x 5 = 15\n",
            "3 x 6 = 18\n",
            "3 x 7 = 21\n",
            "3 x 8 = 24\n",
            "3 x 9 = 27\n",
            "3 x 10 = 30\n",
            "\n",
            "Table of 4:\n",
            "4 x 1 = 4\n",
            "4 x 2 = 8\n",
            "4 x 3 = 12\n",
            "4 x 4 = 16\n",
            "4 x 5 = 20\n",
            "4 x 6 = 24\n",
            "4 x 7 = 28\n",
            "4 x 8 = 32\n",
            "4 x 9 = 36\n",
            "4 x 10 = 40\n",
            "\n",
            "Table of 5:\n",
            "5 x 1 = 5\n",
            "5 x 2 = 10\n",
            "5 x 3 = 15\n",
            "5 x 4 = 20\n",
            "5 x 5 = 25\n",
            "5 x 6 = 30\n",
            "5 x 7 = 35\n",
            "5 x 8 = 40\n",
            "5 x 9 = 45\n",
            "5 x 10 = 50\n"
          ]
        }
      ]
    },
    {
      "cell_type": "markdown",
      "source": [
        "3. Use list comprehension to find words whose length is less than 5 from the given list\n",
        "\n",
        "  planet = ['sky', 'sun', 'moon','star','Jupiter','mars','Neptune', 'Pluto']"
      ],
      "metadata": {
        "id": "s4dqOqVKW9cj"
      }
    },
    {
      "cell_type": "code",
      "source": [
        "planet = ['sky', 'sun', 'moon', 'star', 'Jupiter', 'mars', 'Neptune']\n",
        "short_words = [word for word in planet if len(word) < 5]\n",
        "print(short_words)\n"
      ],
      "metadata": {
        "id": "qvggJtaPXY_I",
        "outputId": "9e877342-4fd5-4f16-9f48-fb69560ca73c",
        "colab": {
          "base_uri": "https://localhost:8080/"
        }
      },
      "execution_count": null,
      "outputs": [
        {
          "output_type": "stream",
          "name": "stdout",
          "text": [
            "['sky', 'sun', 'moon', 'star', 'mars']\n"
          ]
        }
      ]
    },
    {
      "cell_type": "markdown",
      "source": [
        "4. Write a program to append a dictionary to a tuple\n",
        "\n",
        "  The original tuple : (4, 5, 6)\n",
        "\n",
        "  Tuple after addition of dictionary : (4, 5, 6, {'gfg': 1, 'is': 2, 'best': 3})"
      ],
      "metadata": {
        "id": "TqPwbVOvXZX1"
      }
    },
    {
      "cell_type": "code",
      "source": [
        "# Original tuple\n",
        "A = (4, 5, 6)\n",
        "\n",
        "# Dictionary to append\n",
        "B = {'gfg': 1, 'is': 2, 'best': 3}\n",
        "\n",
        "# Appending the dictionary by creating a new tuple\n",
        "result_tuple =A + (B,)\n",
        "print(\"Tuple after addition of dictionary:\", result_tuple)\n"
      ],
      "metadata": {
        "id": "WB9TpviFXnNl",
        "outputId": "2157aac8-78d4-4459-b82f-129ed76e3a77",
        "colab": {
          "base_uri": "https://localhost:8080/"
        }
      },
      "execution_count": null,
      "outputs": [
        {
          "output_type": "stream",
          "name": "stdout",
          "text": [
            "Tuple after addition of dictionary: (4, 5, 6, {'gfg': 1, 'is': 2, 'best': 3})\n"
          ]
        }
      ]
    },
    {
      "cell_type": "markdown",
      "source": [
        "5. A list of words is given. Convert the words into uppercase (use lambda and map functions)\n",
        "\n",
        "    lsbool = ['True','FALse','tRUe','tRue','False','faLse','True']\n",
        "    \n",
        "    Output: ['TRUE', 'FALSE', 'TRUE', 'TRUE', 'FALSE', 'FALSE', 'TRUE']"
      ],
      "metadata": {
        "id": "srFxBnTkXoBJ"
      }
    },
    {
      "cell_type": "code",
      "source": [
        "lsbool = ['True', 'FALse', 'tRUe', 'tRue', 'False', 'faLse', 'True']\n",
        "\n",
        "# Convert to uppercase using map and lambda\n",
        "result = list(map(lambda x: x.upper(), lsbool))\n",
        "print(result)\n"
      ],
      "metadata": {
        "id": "O7Y0Clq9YCPM",
        "outputId": "5a56cb52-8ef5-4d46-b6f5-00c2f6f30589",
        "colab": {
          "base_uri": "https://localhost:8080/"
        }
      },
      "execution_count": null,
      "outputs": [
        {
          "output_type": "stream",
          "name": "stdout",
          "text": [
            "['TRUE', 'FALSE', 'TRUE', 'TRUE', 'FALSE', 'FALSE', 'TRUE']\n"
          ]
        }
      ]
    },
    {
      "cell_type": "markdown",
      "source": [
        "6. A list of words is given. Define a function to find the words from the list that have their second character in uppercase\n",
        "\n",
        "  ls = ['hello', 'Dear', 'hOw', 'ARe', 'You']\n",
        "  \n",
        "  Output: ['hOw', 'ARe']"
      ],
      "metadata": {
        "id": "HKf--GzkYCos"
      }
    },
    {
      "cell_type": "code",
      "source": [
        "def second_char_uppercase(words):\n",
        "    return [word for word in words if len(word) > 1 and word[1].isupper()]\n",
        "\n",
        "# Sample list\n",
        "ls = ['hello', 'Dear', 'hOw', 'ARe', 'You']\n",
        "result = second_char_uppercase(ls)\n",
        "print(result)\n"
      ],
      "metadata": {
        "id": "mqv8uab3YVuO",
        "outputId": "6df3e193-36c2-4636-ebdc-1d5b363b7829",
        "colab": {
          "base_uri": "https://localhost:8080/"
        }
      },
      "execution_count": null,
      "outputs": [
        {
          "output_type": "stream",
          "name": "stdout",
          "text": [
            "['hOw', 'ARe']\n"
          ]
        }
      ]
    },
    {
      "cell_type": "markdown",
      "source": [
        "7.Create an array of integers from 20 to 2 with a step of -2"
      ],
      "metadata": {
        "id": "mQT0oyjYYWIB"
      }
    },
    {
      "cell_type": "code",
      "source": [
        "arr = list(range(20, 1, -2))\n",
        "print(arr)\n"
      ],
      "metadata": {
        "id": "4l2z5vR2e8Rb",
        "outputId": "035f4415-60d5-4317-f275-503c76dc4634",
        "colab": {
          "base_uri": "https://localhost:8080/"
        }
      },
      "execution_count": null,
      "outputs": [
        {
          "output_type": "stream",
          "name": "stdout",
          "text": [
            "[20, 18, 16, 14, 12, 10, 8, 6, 4, 2]\n"
          ]
        }
      ]
    },
    {
      "cell_type": "markdown",
      "source": [
        "8.Replace all odd numbers in the array with -2\n",
        "\n",
        "    num_array = np.array([0, 31, 42, 43, 34, 45, 26, 27, 38, 94, 65, 78, 76])"
      ],
      "metadata": {
        "id": "4NzM56tKe8mU"
      }
    },
    {
      "cell_type": "code",
      "source": [
        "import numpy as np\n",
        "num_array = np.array([0, 31, 42, 43, 34, 45, 26, 27, 38, 94, 65, 78, 76])\n",
        "\n",
        "# Replace odd numbers with -2\n",
        "num_array[num_array % 2 == 1] = -2\n",
        "print(num_array)\n"
      ],
      "metadata": {
        "id": "W93fni6ifJkT",
        "outputId": "c806a3be-e807-4288-8efb-41cdeace5c93",
        "colab": {
          "base_uri": "https://localhost:8080/"
        }
      },
      "execution_count": null,
      "outputs": [
        {
          "output_type": "stream",
          "name": "stdout",
          "text": [
            "[ 0 -2 42 -2 34 -2 26 -2 38 94 -2 78 76]\n"
          ]
        }
      ]
    },
    {
      "cell_type": "markdown",
      "source": [
        "9.Stack two arrays vertically'\n",
        "\n",
        "    quantity1 = np.arange(10).reshape(2,-1)\n",
        "    quantity2 = np.repeat(1, 10).reshape(2,-1)"
      ],
      "metadata": {
        "id": "ds0BGpS0fVAb"
      }
    },
    {
      "cell_type": "code",
      "source": [
        "import numpy as np\n",
        "\n",
        "# Creating the arrays\n",
        "quantity1 = np.arange(10).reshape(2, -1)\n",
        "quantity2 = np.repeat(1, 10).reshape(2, -1)\n",
        "\n",
        "# Stacking vertically\n",
        "result = np.vstack((quantity1, quantity2))\n",
        "print(result)\n"
      ],
      "metadata": {
        "id": "wtIR4PNXfbc4",
        "outputId": "00e4da5d-13a0-447d-9d61-8923ed12f356",
        "colab": {
          "base_uri": "https://localhost:8080/"
        }
      },
      "execution_count": null,
      "outputs": [
        {
          "output_type": "stream",
          "name": "stdout",
          "text": [
            "[[0 1 2 3 4]\n",
            " [5 6 7 8 9]\n",
            " [1 1 1 1 1]\n",
            " [1 1 1 1 1]]\n"
          ]
        }
      ]
    },
    {
      "cell_type": "markdown",
      "source": [
        "10. Reverse each of the rows of the 2D array\n",
        "\n",
        "    num_array1 = np.arange(16).reshape(4,4)"
      ],
      "metadata": {
        "id": "2NjP9_vFfbE8"
      }
    },
    {
      "cell_type": "code",
      "source": [
        "import numpy as np\n",
        "\n",
        "# Create the 2D array\n",
        "num_array1 = np.arange(16).reshape(4, 4)\n",
        "\n",
        "# Reverse each row\n",
        "reversed_rows_array = num_array1[:, ::-1]\n",
        "print(reversed_rows_array)\n"
      ],
      "metadata": {
        "id": "fwdB_QWkfqGW",
        "outputId": "e8c5eb0d-2ef1-4b45-c509-e98ca6d921a8",
        "colab": {
          "base_uri": "https://localhost:8080/"
        }
      },
      "execution_count": null,
      "outputs": [
        {
          "output_type": "stream",
          "name": "stdout",
          "text": [
            "[[ 3  2  1  0]\n",
            " [ 7  6  5  4]\n",
            " [11 10  9  8]\n",
            " [15 14 13 12]]\n"
          ]
        }
      ]
    },
    {
      "cell_type": "markdown",
      "source": [
        "11.  Create a dictionary named 'europe_dict' which has names of countries in europe, their capital and their population.\n"
      ],
      "metadata": {
        "id": "gOv6bctEfzql"
      }
    },
    {
      "cell_type": "markdown",
      "source": [
        "<table>\n",
        "  <tr>\n",
        "  <th>Country </th>\n",
        "  <th>Capital</th>\n",
        "  <th>Population</th>    \n",
        "  </tr>\n",
        "  <tr>\n",
        "  <td>Spain</td>\n",
        "  <td>Madrid</td>\n",
        "  <td>46.77</td>    \n",
        "  </tr>\n",
        "  <tr>\n",
        "  <td>France</td>\n",
        "  <td>Paris</td>\n",
        "  <td>66.03</td>\n",
        "  </tr>\n",
        "  <tr>\n",
        "  <td>Germany</td>\n",
        "  <td>Berlin</td>\n",
        "  <td>80.62</td>\n",
        "  </tr>\n",
        "  <tr>\n",
        "  <td>Norway</td>\n",
        "  <td>Oslo</td>\n",
        "  <td>5.084 </td>\n",
        "</tr>\n",
        "</table>"
      ],
      "metadata": {
        "id": "aYjk8U4igERJ"
      }
    },
    {
      "cell_type": "code",
      "source": [
        "# Creating the dictionary\n",
        "europe_dict = {\n",
        "    'Spain': {'Capital': 'Madrid', 'Population': 46.77},\n",
        "    'France': {'Capital': 'Paris', 'Population': 66.03},\n",
        "    'Germany': {'Capital': 'Berlin', 'Population': 80.62},\n",
        "    'Norway': {'Capital': 'Oslo', 'Population': 5.084}\n",
        "}\n",
        "print(europe_dict)\n"
      ],
      "metadata": {
        "id": "V9y8SevegQgL",
        "outputId": "307bf73a-d06e-45dd-9c3d-1bc2f70929a6",
        "colab": {
          "base_uri": "https://localhost:8080/"
        }
      },
      "execution_count": null,
      "outputs": [
        {
          "output_type": "stream",
          "name": "stdout",
          "text": [
            "{'Spain': {'Capital': 'Madrid', 'Population': 46.77}, 'France': {'Capital': 'Paris', 'Population': 66.03}, 'Germany': {'Capital': 'Berlin', 'Population': 80.62}, 'Norway': {'Capital': 'Oslo', 'Population': 5.084}}\n"
          ]
        }
      ]
    },
    {
      "cell_type": "markdown",
      "source": [
        " 12. In the data in question 11, add a new column 'FamousFor'. The column tells what each country is famous for.\n",
        "\n",
        " <table>\n",
        "  <tr>\n",
        "  <th>Country </th>\n",
        "  <th>FamousFor</th>   \n",
        "  </tr>\n",
        "  <tr>\n",
        "  <td>Spain</td>\n",
        "  <td>Football</td>  \n",
        "  </tr>\n",
        "  <tr>\n",
        "  <td>France</td>\n",
        "  <td>Eiffel Tower</td>\n",
        "  </tr>\n",
        "  <tr>\n",
        "  <td>Germany</td>\n",
        "  <td>Cars</td>\n",
        "  </tr>\n",
        "  <tr>\n",
        "  <td>Norway</td>\n",
        "  <td>Midnight sun</td>\n",
        "</tr>\n",
        "</table>"
      ],
      "metadata": {
        "id": "qoeqqfnEfKD1"
      }
    },
    {
      "cell_type": "code",
      "source": [
        "# Updating the dictionary with the 'FamousFor' column\n",
        "europe_dict = {\n",
        "    'Spain': {'Capital': 'Madrid', 'Population': 46.77, 'FamousFor': 'Football'},\n",
        "    'France': {'Capital': 'Paris', 'Population': 66.03, 'FamousFor': 'Eiffel Tower'},\n",
        "    'Germany': {'Capital': 'Berlin', 'Population': 80.62, 'FamousFor': 'Cars'},\n",
        "    'Norway': {'Capital': 'Oslo', 'Population': 5.084, 'FamousFor': 'Midnight sun'}\n",
        "}\n",
        "print(europe_dict)\n"
      ],
      "metadata": {
        "id": "ZqH4gKc_gYhJ",
        "outputId": "83002f42-ac67-4023-9710-102dc5961c40",
        "colab": {
          "base_uri": "https://localhost:8080/"
        }
      },
      "execution_count": null,
      "outputs": [
        {
          "output_type": "stream",
          "name": "stdout",
          "text": [
            "{'Spain': {'Capital': 'Madrid', 'Population': 46.77, 'FamousFor': 'Football'}, 'France': {'Capital': 'Paris', 'Population': 66.03, 'FamousFor': 'Eiffel Tower'}, 'Germany': {'Capital': 'Berlin', 'Population': 80.62, 'FamousFor': 'Cars'}, 'Norway': {'Capital': 'Oslo', 'Population': 5.084, 'FamousFor': 'Midnight sun'}}\n"
          ]
        }
      ]
    },
    {
      "cell_type": "markdown",
      "source": [
        "13. Use the data created in question 11, to do the following:\n",
        "\n",
        "   i) Access column 'Captial' by specifying the column number.\n",
        "\n",
        "   ii) Access column 'Population' by specifying the column name.\n",
        "\n",
        "  iii) Access a country information\n"
      ],
      "metadata": {
        "id": "F8wHdqw_gcRX"
      }
    },
    {
      "cell_type": "code",
      "source": [
        "# Accessing 'Capital' for each country (by column position, assuming 1st column for 'Capital')\n",
        "capital_column = [info['Capital'] for info in europe_dict.values()]\n",
        "print(\"Capital Column:\", capital_column)\n",
        "\n",
        "# Accessing 'Population' column by name\n",
        "population_column = [info['Population'] for info in europe_dict.values()]\n",
        "print(\"Population Column:\", population_column)\n",
        "\n",
        "# Accessing information for a specific country (e.g., Spain)\n",
        "spain_info = europe_dict['Spain']\n",
        "print(\"Spain Info:\", spain_info)\n"
      ],
      "metadata": {
        "id": "KrRtwkJfhdOG",
        "outputId": "3443d6b4-ed4b-48b1-f2d4-c9517020bc24",
        "colab": {
          "base_uri": "https://localhost:8080/"
        }
      },
      "execution_count": null,
      "outputs": [
        {
          "output_type": "stream",
          "name": "stdout",
          "text": [
            "Capital Column: ['Madrid', 'Paris', 'Berlin', 'Oslo']\n",
            "Population Column: [46.77, 66.03, 80.62, 5.084]\n",
            "Spain Info: {'Capital': 'Madrid', 'Population': 46.77, 'FamousFor': 'Football'}\n"
          ]
        }
      ]
    },
    {
      "cell_type": "markdown",
      "source": [
        "14. check dimension/shape, data types of the dataframe create on question 11\n",
        "\n"
      ],
      "metadata": {
        "id": "ccAu4R6ChaMR"
      }
    },
    {
      "cell_type": "code",
      "source": [
        "import pandas as pd\n",
        "\n",
        "# Creating the DataFrame from europe_dict\n",
        "europe_dict = {\n",
        "    'Spain': {'Capital': 'Madrid', 'Population': 46.77, 'FamousFor': 'Football'},\n",
        "    'France': {'Capital': 'Paris', 'Population': 66.03, 'FamousFor': 'Eiffel Tower'},\n",
        "    'Germany': {'Capital': 'Berlin', 'Population': 80.62, 'FamousFor': 'Cars'},\n",
        "    'Norway': {'Capital': 'Oslo', 'Population': 5.084, 'FamousFor': 'Midnight sun'}\n",
        "}\n",
        "\n",
        "# Converting the dictionary to a DataFrame\n",
        "df = pd.DataFrame.from_dict(europe_dict, orient='index')\n",
        "\n",
        "# Checking the dimension/shape of the DataFrame\n",
        "print(\"Shape of the DataFrame:\", df.shape)\n",
        "\n",
        "# Checking the data types of the columns\n",
        "print(\"Data types of the columns:\")\n",
        "print(df.dtypes)\n"
      ],
      "metadata": {
        "id": "X0BdeDj3gygC",
        "outputId": "f71ffe3c-b9f9-4789-ea9b-48a384ada3d5",
        "colab": {
          "base_uri": "https://localhost:8080/"
        }
      },
      "execution_count": null,
      "outputs": [
        {
          "output_type": "stream",
          "name": "stdout",
          "text": [
            "Shape of the DataFrame: (4, 3)\n",
            "Data types of the columns:\n",
            "Capital        object\n",
            "Population    float64\n",
            "FamousFor      object\n",
            "dtype: object\n"
          ]
        }
      ]
    },
    {
      "cell_type": "markdown",
      "source": [
        "15.Create a pandas series having values 4, 7, -5, 3, NAN and their index as d, b, a, c, e\n",
        "\n",
        "  find the minimum of all values & the maximum of all value\n"
      ],
      "metadata": {
        "id": "A4UZqFrzhfYB"
      }
    },
    {
      "cell_type": "code",
      "source": [
        "import pandas as pd\n",
        "import numpy as np\n",
        "\n",
        "# Creating the pandas Series\n",
        "data = [4, 7, -5, 3, np.nan]\n",
        "index = ['d', 'b', 'a', 'c', 'e']\n",
        "\n",
        "series = pd.Series(data, index=index)\n",
        "\n",
        "# Finding the minimum and maximum values, ignoring NaN\n",
        "min_value = series.min()\n",
        "max_value = series.max()\n",
        "print(\"Pandas Series:\")\n",
        "print(series)\n",
        "print(\"\\nMinimum value:\", min_value)\n",
        "print(\"Maximum value:\", max_value)\n"
      ],
      "metadata": {
        "id": "MlIKxoq8g9Wn",
        "outputId": "efce4ceb-4805-4c5b-935c-76ce2fd34d5a",
        "colab": {
          "base_uri": "https://localhost:8080/"
        }
      },
      "execution_count": null,
      "outputs": [
        {
          "output_type": "stream",
          "name": "stdout",
          "text": [
            "Pandas Series:\n",
            "d    4.0\n",
            "b    7.0\n",
            "a   -5.0\n",
            "c    3.0\n",
            "e    NaN\n",
            "dtype: float64\n",
            "\n",
            "Minimum value: -5.0\n",
            "Maximum value: 7.0\n"
          ]
        }
      ]
    },
    {
      "cell_type": "markdown",
      "source": [
        "16. Using the series in question 15 sort:\n",
        "the values in ascending order\n",
        "the values in decending order\n"
      ],
      "metadata": {
        "id": "5DeJ7l4MhirQ"
      }
    },
    {
      "cell_type": "code",
      "source": [
        "import pandas as pd\n",
        "import numpy as np\n",
        "\n",
        "# Creating the pandas Series\n",
        "data = [4, 7, -5, 3, np.nan]\n",
        "index = ['d', 'b', 'a', 'c', 'e']\n",
        "\n",
        "series = pd.Series(data, index=index)\n",
        "\n",
        "# Sorting in ascending order (NaN will be placed at the end by default)\n",
        "ascending_order = series.sort_values(ascending=True)\n",
        "\n",
        "# Sorting in descending order (NaN will be placed at the end by default)\n",
        "descending_order = series.sort_values(ascending=False)\n",
        "print(\"Series in ascending order:\")\n",
        "print(ascending_order)\n",
        "\n",
        "print(\"\\nSeries in descending order:\")\n",
        "print(descending_order)\n"
      ],
      "metadata": {
        "id": "LKzaV35rg9Om",
        "outputId": "ee6a35a0-32c4-42aa-9d84-ae7ce1f833f6",
        "colab": {
          "base_uri": "https://localhost:8080/"
        }
      },
      "execution_count": null,
      "outputs": [
        {
          "output_type": "stream",
          "name": "stdout",
          "text": [
            "Series in ascending order:\n",
            "a   -5.0\n",
            "c    3.0\n",
            "d    4.0\n",
            "b    7.0\n",
            "e    NaN\n",
            "dtype: float64\n",
            "\n",
            "Series in descending order:\n",
            "b    7.0\n",
            "d    4.0\n",
            "c    3.0\n",
            "a   -5.0\n",
            "e    NaN\n",
            "dtype: float64\n"
          ]
        }
      ]
    }
  ]
}